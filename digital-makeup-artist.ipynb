{
  "nbformat": 4,
  "nbformat_minor": 0,
  "metadata": {
    "colab": {
      "name": "Untitled2.ipynb",
      "provenance": []
    },
    "kernelspec": {
      "name": "python3",
      "display_name": "Python 3"
    }
  },
  "cells": [
    {
      "cell_type": "markdown",
      "metadata": {
        "id": "hSLERM2R0Bpd",
        "colab_type": "text"
      },
      "source": [
        "# Digital Makeup Artist"
      ]
    },
    {
      "cell_type": "code",
      "metadata": {
        "id": "2fZFBH9u0K9x",
        "colab_type": "code",
        "colab": {}
      },
      "source": [
        "# import required packages\n",
        "\n",
        "import imutils\n",
        "from imutils import face_utils\n",
        "#    Title: imutils\n",
        "#    Author: Adrian Rosebrock\n",
        "#    Date: August 18, 2019\n",
        "#    URL: https://github.com/jrosebr1/imutil\n",
        "\n",
        "\n",
        "import dlib\n",
        "#    Title: dlib\n",
        "#    Author: Davis E. King\n",
        "#    Year: 2002\n",
        "#    URL: https://github.com/davisking/dlib\n",
        "\n",
        "import cv2\n",
        "from PIL import Image, ImageDraw"
      ],
      "execution_count": 7,
      "outputs": []
    },
    {
      "cell_type": "code",
      "metadata": {
        "id": "7XwdquT-0VDz",
        "colab_type": "code",
        "colab": {}
      },
      "source": [
        "# load the input image\n",
        "image = cv2.imread(\"input/input_image.jpeg\") "
      ],
      "execution_count": 14,
      "outputs": []
    },
    {
      "cell_type": "code",
      "metadata": {
        "id": "3x_z9VEz0XgO",
        "colab_type": "code",
        "colab": {}
      },
      "source": [
        "# Detect face using dlib using HOG + Linear SVM detector\n",
        "face_detector = dlib.get_frontal_face_detector()\n",
        "\n",
        "# Predict the facial landmark using ensemble regression trees\n",
        "landmark_predictor = dlib.shape_predictor(\"shape_predictor_68_face_landmarks.dat\")  "
      ],
      "execution_count": 15,
      "outputs": []
    },
    {
      "cell_type": "code",
      "metadata": {
        "id": "-2aD1b9K0Z75",
        "colab_type": "code",
        "colab": {}
      },
      "source": [
        "# Resize the image\n",
        "image = imutils.resize(image, width=500)\n",
        "\n",
        "# Convert the image from BGR to RGB\n",
        "image_RGB = cv2.cvtColor(image, cv2.COLOR_BGR2RGB)\n",
        "\n",
        "# Convert original image to grayscale\n",
        "gray = cv2.cvtColor(image, cv2.COLOR_BGR2GRAY)"
      ],
      "execution_count": 16,
      "outputs": []
    },
    {
      "cell_type": "code",
      "metadata": {
        "id": "ImCLB4wiy7D4",
        "colab_type": "code",
        "colab": {}
      },
      "source": [
        "# Detect faces in the grayscale image\n",
        "box = face_detector(image_RGB, 1)\n",
        "\n",
        "image_pil = Image.fromarray(image_RGB)\n",
        "\n",
        "# Create a PIL object to draw on the image\n",
        "makeup = ImageDraw.Draw(image_pil, 'RGBA')\n",
        "\n",
        "for (i, box) in enumerate(box):\n",
        "\t# Predict the landmarks features\n",
        "    points = landmark_predictor(gray, box)\n",
        "    points = face_utils.shape_to_np(points)\n",
        "    \n",
        "    # Convert shape to tuple\n",
        "    points = tuple(map(tuple, points))\n",
        "    \n",
        "    # Obtain list of face landmarks with the respective 68 facial coordinate points\n",
        "    landmarks_list = face_utils.FACIAL_LANDMARKS_IDXS.items()\n",
        "    \n",
        "    # Iterate over the landmark list\n",
        "    for (face_landmarks, (i,j)) in landmarks_list:\n",
        "              \n",
        "        # Start applying makeup on the corresponding locations\n",
        "        \n",
        "        # Highlight the eyebrows\n",
        "        if face_landmarks == \"left_eyebrow\":\n",
        "            makeup.polygon(points[i:j], fill=(68, 54, 39, 128))\n",
        "            makeup.line(points[i:j], fill=(68, 54, 39, 150), width=5)\n",
        "        \n",
        "        if face_landmarks == \"right_eyebrow\":\n",
        "            makeup.polygon(points[i:j], fill=(68, 54, 39, 128))\n",
        "            makeup.line(points[i:j], fill=(68, 54, 39, 150), width=5)\n",
        "        \n",
        "        # Add lipstick\n",
        "        if face_landmarks == \"mouth\":\n",
        "            makeup.polygon(points[i:j], fill=(150, 0, 0, 128))\n",
        "            makeup.polygon(points[i:j], fill=(150, 0, 0, 128))\n",
        "            makeup.line(points[i:j], fill=(150, 0, 0, 64), width=8)\n",
        "            makeup.line(points[i:j], fill=(150, 0, 0, 64), width=8)\n",
        "        \n",
        "        # Apply eyeliner\n",
        "        if face_landmarks == \"left_eye\":\n",
        "            makeup.line(points[i:j] + points[i:j][0], fill=(0, 0, 0, 110), width=6)\n",
        "    \n",
        "        if face_landmarks == \"right_eye\":\n",
        "            makeup.line(points[i:j] + points[i:j][0], fill=(0, 0, 0, 110), width=6)\n",
        "            \n",
        "    # Show and save the image in the working directory       \n",
        "    image_pil.show()"
      ],
      "execution_count": 17,
      "outputs": []
    },
    {
      "cell_type": "code",
      "metadata": {
        "id": "J5Wu1oOa0f_Q",
        "colab_type": "code",
        "colab": {}
      },
      "source": [
        "image_pil.save(\"output/output_image.jpg\")"
      ],
      "execution_count": 18,
      "outputs": []
    }
  ]
}